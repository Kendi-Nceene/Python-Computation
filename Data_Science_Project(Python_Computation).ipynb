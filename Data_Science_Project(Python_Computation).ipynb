{
  "nbformat": 4,
  "nbformat_minor": 0,
  "metadata": {
    "colab": {
      "name": "Data Science Project(Python Computation)",
      "provenance": [],
      "collapsed_sections": [],
      "toc_visible": true,
      "authorship_tag": "ABX9TyOHomo7D+uG6ZrgvrpH7w8I",
      "include_colab_link": true
    },
    "kernelspec": {
      "name": "python3",
      "display_name": "Python 3"
    },
    "language_info": {
      "name": "python"
    }
  },
  "cells": [
    {
      "cell_type": "markdown",
      "metadata": {
        "id": "view-in-github",
        "colab_type": "text"
      },
      "source": [
        "<a href=\"https://colab.research.google.com/github/Kendi-Nceene/Python-Computation/blob/main/Data_Science_Project(Python_Computation).ipynb\" target=\"_parent\"><img src=\"https://colab.research.google.com/assets/colab-badge.svg\" alt=\"Open In Colab\"/></a>"
      ]
    },
    {
      "cell_type": "markdown",
      "source": [
        "**Creating several python programs that should be able to perform the given operations then display the results of the operations.**"
      ],
      "metadata": {
        "id": "8USGNOw6-Un6"
      }
    },
    {
      "cell_type": "code",
      "source": [
        "#Take two values from a user(both in pounds)then convert those values to kilograms\n",
        "weight_1 = float(input(\"What is your weight in pounds? \"))\n",
        "weight_2 = float(input(\"What is your weight in pounds? \"))\n",
        "kg_1 = (weight_1*0.453592)\n",
        "print(kg_1)\n",
        "kg_2 = (weight_2*0.453592)\n",
        "print(kg_2)"
      ],
      "metadata": {
        "id": "GW2ccI_Cvk2y",
        "colab": {
          "base_uri": "https://localhost:8080/"
        },
        "outputId": "38f18b02-f60a-42e5-ceb2-d88608e18f80"
      },
      "execution_count": null,
      "outputs": [
        {
          "output_type": "stream",
          "name": "stdout",
          "text": [
            "What is your weight in pounds? 200\n",
            "What is your weight in pounds? 100\n",
            "90.7184\n",
            "45.3592\n"
          ]
        }
      ]
    },
    {
      "cell_type": "code",
      "source": [
        "#Perform the sum of the values\n",
        "sum =weight_1 + weight_2 \n",
        "kg =(sum*0.453592)\n",
        "print(kg)"
      ],
      "metadata": {
        "colab": {
          "base_uri": "https://localhost:8080/"
        },
        "id": "2Scsr3VW8XSe",
        "outputId": "a0edf596-4072-48f4-8352-7d3b8ed9ee30"
      },
      "execution_count": null,
      "outputs": [
        {
          "output_type": "stream",
          "name": "stdout",
          "text": [
            "136.0776\n"
          ]
        }
      ]
    },
    {
      "cell_type": "code",
      "source": [
        "average = kg /2\n",
        "print(average)"
      ],
      "metadata": {
        "colab": {
          "base_uri": "https://localhost:8080/"
        },
        "id": "vbxUKPW48xpA",
        "outputId": "202b8c87-ed94-4c7a-b4f1-8ce4ca55a404"
      },
      "execution_count": null,
      "outputs": [
        {
          "output_type": "stream",
          "name": "stdout",
          "text": [
            "68.0388\n"
          ]
        }
      ]
    },
    {
      "cell_type": "code",
      "source": [
        "#Perform the difference of the values\n",
        "sub = weight_1 -weight_2\n",
        "kg = (sub*0.453592)\n",
        "print(kg)"
      ],
      "metadata": {
        "colab": {
          "base_uri": "https://localhost:8080/"
        },
        "id": "JWT8on0k9vpu",
        "outputId": "53a365df-5e30-41f6-fcdc-02a376b03e81"
      },
      "execution_count": null,
      "outputs": [
        {
          "output_type": "stream",
          "name": "stdout",
          "text": [
            "45.3592\n"
          ]
        }
      ]
    },
    {
      "cell_type": "code",
      "source": [
        "#Find the quotient when one value is divided by another\n",
        "div = weight_1 / weight_2\n",
        "kg = (div*0.453592)\n",
        "print(kg)"
      ],
      "metadata": {
        "colab": {
          "base_uri": "https://localhost:8080/"
        },
        "id": "5ZH-XVRA_CTm",
        "outputId": "4a3711ab-9522-4800-c299-e4b7c0308e20"
      },
      "execution_count": null,
      "outputs": [
        {
          "output_type": "stream",
          "name": "stdout",
          "text": [
            "0.907184\n"
          ]
        }
      ]
    },
    {
      "cell_type": "code",
      "source": [
        "#Determine and print out whether any of the numbers are even or odd\n",
        "if weight_1 % 2 == 0:\n",
        "  print(\"Even\")\n",
        "else:\n",
        "  print(\"Odd\")\n",
        "if weight_2 % 2 == 0:\n",
        "  print(\"Even\")\n",
        "else:\n",
        "  print(\"odd\")\n",
        "\n",
        "\n"
      ],
      "metadata": {
        "colab": {
          "base_uri": "https://localhost:8080/"
        },
        "id": "cTfJc5WH_i_j",
        "outputId": "4b6c3a0a-21e4-416e-cc2a-7d9da7316816"
      },
      "execution_count": null,
      "outputs": [
        {
          "output_type": "stream",
          "name": "stdout",
          "text": [
            "Even\n",
            "Even\n"
          ]
        }
      ]
    }
  ]
}